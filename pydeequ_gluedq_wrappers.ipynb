{
 "cells": [
  {
   "cell_type": "code",
   "execution_count": 1,
   "metadata": {},
   "outputs": [],
   "source": [
    "class SimpleDQ:\n",
    "    import boto3\n",
    "    glue_client = boto3.client('glue')\n",
    "\n",
    "    def __init__(self, mode, **kwargs) -> None:\n",
    "        mode = 'PyDeeQu', # ['PyDeeQu'|'GlueDQ']   \n",
    "           \n",
    "\n",
    "    def batch_get_data_quality_result(self, **kwargs): pass # ToDo \n",
    "    def cancel_data_quality_rule_recommendation_run(self, **kwargs): pass # ToDo \n",
    "    def cancel_data_quality_ruleset_evaluation_run(self, **kwargs): pass # ToDo\n",
    "\n",
    "    def create_data_quality_ruleset(self, **kwargs): \n",
    "\n",
    "        \n",
    "\n",
    "\n",
    "    def delete_data_quality_ruleset(self, **kwargs): pass # ToDo\n",
    "    def get_data_quality_result(self, **kwargs): pass # ToDo\n",
    "    def get_data_quality_rule_recommendation_run(self, **kwargs): pass # ToDo\n",
    "    def get_data_quality_ruleset(self, **kwargs): pass # ToDo\n",
    "    def get_data_quality_ruleset_evaluation_run(self, **kwargs): pass # ToDo\n",
    "    def list_data_quality_results(self, **kwargs): pass # ToDo\n",
    "    def list_data_quality_rule_recommendation_runs(self, **kwargs): pass # ToDo\n",
    "    def list_data_quality_ruleset_evaluation_runs(self, **kwargs): pass # ToDo\n",
    "    def list_data_quality_rulesets(self, **kwargs): pass # ToDo\n",
    "    def start_data_quality_rule_recommendation_run(self, **kwargs): pass # ToDo\n",
    "    def start_data_quality_ruleset_evaluation_run(self, **kwargs): pass # ToDo\n",
    "    def update_data_quality_ruleset(self, **kwargs): pass # ToDo\n"
   ]
  },
  {
   "cell_type": "code",
   "execution_count": 6,
   "metadata": {},
   "outputs": [],
   "source": [
    "def myfunc(**kwargs):\n",
    "    for k,v in kwargs.items():\n",
    "        print(k,v)\n",
    "\n",
    "parms = {\n",
    "    'Name' : 'name',\n",
    "    'Description': 'desc',\n",
    "    'Ruleset' : '[delimited string list]',\n",
    "    'Tags' : {\n",
    "        'string': 'string'\n",
    "    },\n",
    "    'TargetTable' : {\n",
    "        'TableName': 'glueTable',\n",
    "        'DatabaseName': 'glueDb',\n",
    "        'CatalogId': 'default'\n",
    "    },\n",
    "    'ClientToken' :'uuid'\n",
    "}\n",
    "\n",
    "#myfunc(parms)"
   ]
  },
  {
   "cell_type": "code",
   "execution_count": 8,
   "metadata": {},
   "outputs": [
    {
     "name": "stdout",
     "output_type": "stream",
     "text": [
      "Name name\n",
      "Description desc\n",
      "Ruleset [delimited string list]\n",
      "Tags {'string': 'string'}\n",
      "TargetTable {'TableName': 'glueTable', 'DatabaseName': 'glueDb', 'CatalogId': 'default'}\n",
      "ClientToken uuid\n"
     ]
    }
   ],
   "source": [
    "myfunc(**parms)"
   ]
  }
 ],
 "metadata": {
  "kernelspec": {
   "display_name": "Python 3",
   "language": "python",
   "name": "python3"
  },
  "language_info": {
   "codemirror_mode": {
    "name": "ipython",
    "version": 3
   },
   "file_extension": ".py",
   "mimetype": "text/x-python",
   "name": "python",
   "nbconvert_exporter": "python",
   "pygments_lexer": "ipython3",
   "version": "3.8.3"
  },
  "orig_nbformat": 4
 },
 "nbformat": 4,
 "nbformat_minor": 2
}
